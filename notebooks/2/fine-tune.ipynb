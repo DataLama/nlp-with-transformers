{
 "cells": [
  {
   "cell_type": "markdown",
   "id": "e2522666-3951-4015-825e-13f23731dfa5",
   "metadata": {},
   "source": [
    "# Trainer API를 활용한 Fine Tuning 하기."
   ]
  },
  {
   "cell_type": "markdown",
   "id": "8d5d9369-8a88-4172-b762-d153c7909471",
   "metadata": {},
   "source": [
    "## 1. 데이터와 configuration 불러오기"
   ]
  },
  {
   "cell_type": "code",
   "execution_count": 2,
   "id": "2d107c7c-8188-4887-9980-3db47581e31b",
   "metadata": {},
   "outputs": [],
   "source": [
    "import os\n",
    "os.environ[\"CUDA_VISIBLE_DEVICES\"]=\"3\"\n",
    "import sys\n",
    "from omegaconf import OmegaConf\n",
    "\n",
    "from sklearn.metrics import accuracy_score, f1_score\n",
    "\n",
    "import torch\n",
    "from datasets import load_dataset\n",
    "from transformers import (\n",
    "    AutoTokenizer, \n",
    "    AutoModelForSequenceClassification, \n",
    "    EvalPrediction,\n",
    "    Trainer,\n",
    "    TrainingArguments\n",
    ")\n",
    "\n"
   ]
  },
  {
   "cell_type": "markdown",
   "id": "72a562b2-0245-48f6-80bb-836e75202d78",
   "metadata": {},
   "source": [
    "* `pl.LightningDataModule`로 datasets의 전처리 과정을 관리하는 코드 만듦."
   ]
  },
  {
   "cell_type": "code",
   "execution_count": null,
   "id": "682235d7-2fe6-435f-8363-6d86daa91f5c",
   "metadata": {},
   "outputs": [],
   "source": [
    "sys.path.append('/root/nlp-with-transformers')\n",
    "from src.data import EmotionDataModule"
   ]
  },
  {
   "cell_type": "markdown",
   "id": "31077c1d-29cc-44f8-9cbe-06799dd4d962",
   "metadata": {},
   "source": [
    "* 평가지표 정의하기\n",
    "    * Trainer 내부에서 사용할 `compute_metrics`을 정의함.\n",
    "    * 모델 학습 과정에서 `EvalPrediction`객체 (has attribute predictions, label_ids)를 전달받아서 평가지표 계산이 가능함."
   ]
  },
  {
   "cell_type": "code",
   "execution_count": null,
   "id": "96e2b7e0-939f-43b3-9106-486a125b5b24",
   "metadata": {},
   "outputs": [],
   "source": [
    "def compute_metrics(pred:EvalPrediction):\n",
    "    \"\"\"Get EvalPrediction and Calculate the metrics\"\"\"\n",
    "    labels = pred.label_ids\n",
    "    preds = pred.predictions.argmax(-1)\n",
    "    f1 = f1_score(labels, preds, average=\"weighted\")\n",
    "    acc = accuracy_score(labels, preds)\n",
    "    return {\"accuracy\":acc, \"f1\":f1}"
   ]
  },
  {
   "cell_type": "markdown",
   "id": "50d630c7-3d68-401c-8759-c3caba56af49",
   "metadata": {},
   "source": [
    "* configuration은 크게 data, model, training쪽을 나눠서 관리하는게 좋음."
   ]
  },
  {
   "cell_type": "code",
   "execution_count": 3,
   "id": "f59a0747-d91e-4a26-adc5-c0245ca89231",
   "metadata": {},
   "outputs": [],
   "source": [
    "config = OmegaConf.load('conf/ft.yaml')"
   ]
  },
  {
   "cell_type": "code",
   "execution_count": 4,
   "id": "6bddf505-fd73-435e-a635-e51876cf5715",
   "metadata": {},
   "outputs": [
    {
     "name": "stderr",
     "output_type": "stream",
     "text": [
      "No config specified, defaulting to: emotion/split\n",
      "No config specified, defaulting to: emotion/split\n",
      "Found cached dataset emotion (/root/.cache/huggingface/datasets/emotion/split/1.0.0/cca5efe2dfeb58c1d098e0f9eeb200e9927d889b5a03c67097275dfb5fe463bd)\n"
     ]
    },
    {
     "data": {
      "application/vnd.jupyter.widget-view+json": {
       "model_id": "eadaa627414f4682a1489d70bab54cbe",
       "version_major": 2,
       "version_minor": 0
      },
      "text/plain": [
       "  0%|          | 0/3 [00:00<?, ?it/s]"
      ]
     },
     "metadata": {},
     "output_type": "display_data"
    },
    {
     "name": "stderr",
     "output_type": "stream",
     "text": [
      "Loading cached processed dataset at /root/.cache/huggingface/datasets/emotion/split/1.0.0/cca5efe2dfeb58c1d098e0f9eeb200e9927d889b5a03c67097275dfb5fe463bd/cache-805eceb002e5c82e.arrow\n",
      "Loading cached processed dataset at /root/.cache/huggingface/datasets/emotion/split/1.0.0/cca5efe2dfeb58c1d098e0f9eeb200e9927d889b5a03c67097275dfb5fe463bd/cache-e72b1f240cb76b39.arrow\n",
      "Loading cached processed dataset at /root/.cache/huggingface/datasets/emotion/split/1.0.0/cca5efe2dfeb58c1d098e0f9eeb200e9927d889b5a03c67097275dfb5fe463bd/cache-363a00d3f7a34dfe.arrow\n"
     ]
    }
   ],
   "source": [
    "tokenizer = AutoTokenizer.from_pretrained(config.model.pretrained_model_name_or_path)\n",
    "dm = EmotionDataModule(tokenizer=tokenizer, **OmegaConf.to_container(config.data))\n",
    "dm.setup()"
   ]
  },
  {
   "cell_type": "markdown",
   "id": "e795fed0-d33c-455f-b6a4-b141791880dc",
   "metadata": {},
   "source": [
    "* 사전학습된 모델 로드"
   ]
  },
  {
   "cell_type": "code",
   "execution_count": 5,
   "id": "c83e54ff-0485-4880-816a-61f08cf4b54d",
   "metadata": {},
   "outputs": [
    {
     "name": "stderr",
     "output_type": "stream",
     "text": [
      "Some weights of the model checkpoint at distilbert-base-uncased were not used when initializing DistilBertForSequenceClassification: ['vocab_layer_norm.bias', 'vocab_projector.weight', 'vocab_layer_norm.weight', 'vocab_transform.bias', 'vocab_projector.bias', 'vocab_transform.weight']\n",
      "- This IS expected if you are initializing DistilBertForSequenceClassification from the checkpoint of a model trained on another task or with another architecture (e.g. initializing a BertForSequenceClassification model from a BertForPreTraining model).\n",
      "- This IS NOT expected if you are initializing DistilBertForSequenceClassification from the checkpoint of a model that you expect to be exactly identical (initializing a BertForSequenceClassification model from a BertForSequenceClassification model).\n",
      "Some weights of DistilBertForSequenceClassification were not initialized from the model checkpoint at distilbert-base-uncased and are newly initialized: ['classifier.bias', 'classifier.weight', 'pre_classifier.weight', 'pre_classifier.bias']\n",
      "You should probably TRAIN this model on a down-stream task to be able to use it for predictions and inference.\n"
     ]
    }
   ],
   "source": [
    "device = torch.device('cuda' if torch.cuda.is_available() else 'cpu')\n",
    "model = AutoModelForSequenceClassification.from_pretrained(\n",
    "    config.model.pretrained_model_name_or_path, \n",
    "    num_labels=dm.num_classes\n",
    ").to(device)"
   ]
  },
  {
   "cell_type": "markdown",
   "id": "5215d5da-5a5c-48eb-8550-f76d68462d3f",
   "metadata": {},
   "source": [
    "* 다른 arguments에 의존성이 있는 training args를 정의 및 trainer 실행."
   ]
  },
  {
   "cell_type": "code",
   "execution_count": 6,
   "id": "2e294859-bd93-4016-a1b3-8e2a0a5307c6",
   "metadata": {},
   "outputs": [],
   "source": [
    "config.training.output_dir = f\"{config.model.pretrained_model_name_or_path}-finetuned-emotion\"\n",
    "config.training.logging_steps = len(dm.ds['train']) // config.training.per_device_train_batch_size\n",
    "training_args = TrainingArguments(**OmegaConf.to_container(config.training))"
   ]
  },
  {
   "cell_type": "code",
   "execution_count": 8,
   "id": "06938a6e-2184-4059-aa28-4caab5eda02e",
   "metadata": {},
   "outputs": [
    {
     "name": "stderr",
     "output_type": "stream",
     "text": [
      "/opt/conda/lib/python3.9/site-packages/transformers/optimization.py:306: FutureWarning: This implementation of AdamW is deprecated and will be removed in a future version. Use the PyTorch implementation torch.optim.AdamW instead, or set `no_deprecation_warning=True` to disable this warning\n",
      "  warnings.warn(\n"
     ]
    },
    {
     "data": {
      "text/html": [
       "\n",
       "    <div>\n",
       "      \n",
       "      <progress value='750' max='750' style='width:300px; height:20px; vertical-align: middle;'></progress>\n",
       "      [750/750 01:39, Epoch 3/3]\n",
       "    </div>\n",
       "    <table border=\"1\" class=\"dataframe\">\n",
       "  <thead>\n",
       " <tr style=\"text-align: left;\">\n",
       "      <th>Epoch</th>\n",
       "      <th>Training Loss</th>\n",
       "      <th>Validation Loss</th>\n",
       "      <th>Accuracy</th>\n",
       "      <th>F1</th>\n",
       "    </tr>\n",
       "  </thead>\n",
       "  <tbody>\n",
       "    <tr>\n",
       "      <td>1</td>\n",
       "      <td>0.785800</td>\n",
       "      <td>0.280399</td>\n",
       "      <td>0.912000</td>\n",
       "      <td>0.909511</td>\n",
       "    </tr>\n",
       "    <tr>\n",
       "      <td>2</td>\n",
       "      <td>0.217000</td>\n",
       "      <td>0.179996</td>\n",
       "      <td>0.930500</td>\n",
       "      <td>0.930353</td>\n",
       "    </tr>\n",
       "    <tr>\n",
       "      <td>3</td>\n",
       "      <td>0.150600</td>\n",
       "      <td>0.168231</td>\n",
       "      <td>0.935000</td>\n",
       "      <td>0.935032</td>\n",
       "    </tr>\n",
       "  </tbody>\n",
       "</table><p>"
      ],
      "text/plain": [
       "<IPython.core.display.HTML object>"
      ]
     },
     "metadata": {},
     "output_type": "display_data"
    },
    {
     "data": {
      "text/plain": [
       "TrainOutput(global_step=750, training_loss=0.38445380655924477, metrics={'train_runtime': 101.9885, 'train_samples_per_second': 470.641, 'train_steps_per_second': 7.354, 'total_flos': 1078278745731840.0, 'train_loss': 0.38445380655924477, 'epoch': 3.0})"
      ]
     },
     "execution_count": 8,
     "metadata": {},
     "output_type": "execute_result"
    }
   ],
   "source": [
    "trainer = Trainer(model=model, args=training_args,\n",
    "                  compute_metrics=compute_metrics,\n",
    "                  train_dataset=dm.ds['train'],\n",
    "                  eval_dataset=dm.ds['validation'],\n",
    "                  data_collator=dm.get_collate_fn()\n",
    "                 )\n",
    "\n",
    "trainer.train()"
   ]
  },
  {
   "cell_type": "markdown",
   "id": "f796233b-5106-4d0e-ad3e-a7bde3fa45df",
   "metadata": {},
   "source": [
    "* predicts를 통해 예측값을 받을 수 있음."
   ]
  },
  {
   "cell_type": "code",
   "execution_count": 13,
   "id": "5b04d650-50b8-46cc-9c8a-20e36b416b85",
   "metadata": {},
   "outputs": [
    {
     "data": {
      "text/html": [],
      "text/plain": [
       "<IPython.core.display.HTML object>"
      ]
     },
     "metadata": {},
     "output_type": "display_data"
    },
    {
     "data": {
      "text/plain": [
       "PredictionOutput(predictions=array([[ 5.125517  , -0.85585594, -0.9488167 , -1.1720947 , -0.76221216,\n",
       "        -1.7000798 ],\n",
       "       [ 5.201852  , -0.8692229 , -1.8879997 , -0.52464515, -0.25385183,\n",
       "        -1.719322  ],\n",
       "       [-1.4356955 ,  2.7226503 ,  3.0036068 , -1.5660727 , -2.0291173 ,\n",
       "        -1.7384019 ],\n",
       "       ...,\n",
       "       [-1.1659471 ,  5.2157    , -0.32684675, -1.3742566 , -1.719369  ,\n",
       "        -1.261219  ],\n",
       "       [-1.8680072 ,  2.8251667 ,  3.0821369 , -1.690891  , -1.9406939 ,\n",
       "        -1.5378581 ],\n",
       "       [-1.254271  ,  5.100617  , -0.36024407, -1.7757343 , -1.649835  ,\n",
       "        -0.5117977 ]], dtype=float32), label_ids=array([0, 0, 2, ..., 1, 1, 1]), metrics={'test_loss': 0.16823114454746246, 'test_accuracy': 0.935, 'test_f1': 0.9350321299504437, 'test_runtime': 1.3004, 'test_samples_per_second': 1538.022, 'test_steps_per_second': 24.608})"
      ]
     },
     "execution_count": 13,
     "metadata": {},
     "output_type": "execute_result"
    }
   ],
   "source": [
    "predicts = trainer.predict(dm.ds['validation'])\n",
    "predicts"
   ]
  },
  {
   "cell_type": "markdown",
   "id": "116e73b5-c753-4349-83a9-6de3e098ffad",
   "metadata": {},
   "source": [
    "* 오차 행렬"
   ]
  },
  {
   "cell_type": "code",
   "execution_count": 15,
   "id": "a49a3443-fff8-4fc8-803c-99de2a015a26",
   "metadata": {},
   "outputs": [],
   "source": [
    "import matplotlib.pyplot as plt\n",
    "from sklearn.metrics import ConfusionMatrixDisplay, confusion_matrix"
   ]
  },
  {
   "cell_type": "code",
   "execution_count": 20,
   "id": "e689661d-1750-4c2f-a9b3-138c94f21611",
   "metadata": {},
   "outputs": [],
   "source": [
    "def plot_confusion_matrix(y_pred, y_true, labels):\n",
    "    cm = confusion_matrix(y_true, y_pred, normalize='true')\n",
    "    fig, ax = plt.subplots(figsize=(6,6))\n",
    "    disp = ConfusionMatrixDisplay(confusion_matrix=cm, display_labels=labels)\n",
    "    disp.plot(cmap=\"Blues\", values_format=\".2f\", ax=ax, colorbar=False)\n",
    "    plt.title(\"Normalized Confusion matrix\")\n",
    "    plt.show()"
   ]
  },
  {
   "cell_type": "code",
   "execution_count": 22,
   "id": "71caddac-a837-43eb-89a9-ecbbdba40d0d",
   "metadata": {},
   "outputs": [
    {
     "data": {
      "image/png": "[encoded data removed]",
      "text/plain": [
       "<Figure size 600x600 with 1 Axes>"
      ]
     },
     "metadata": {},
     "output_type": "display_data"
    }
   ],
   "source": [
    "import numpy as np\n",
    "y_preds = np.argmax(predicts.predictions, axis=1)\n",
    "plot_confusion_matrix(y_preds, dm.ds['validation']['label'], dm.id2label)"
   ]
  }
 ],
 "metadata": {
  "kernelspec": {
   "display_name": "Python 3 (ipykernel)",
   "language": "python",
   "name": "python3"
  },
  "language_info": {
   "codemirror_mode": {
    "name": "ipython",
    "version": 3
   },
   "file_extension": ".py",
   "mimetype": "text/x-python",
   "name": "python",
   "nbconvert_exporter": "python",
   "pygments_lexer": "ipython3",
   "version": "3.9.13"
  }
 },
 "nbformat": 4,
 "nbformat_minor": 5
}
