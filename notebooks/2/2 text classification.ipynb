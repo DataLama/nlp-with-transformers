{
 "cells": [
  {
   "cell_type": "markdown",
   "id": "33ad3b84-453c-428c-b5e5-518a06a99a3f",
   "metadata": {},
   "source": [
    "## 2.1 데이터셋\n",
    "* emotion에 대한 6가지 감정을 분류한 데이터셋인 CARER(https://aclanthology.org/D18-1404.pdf)를 활용한 text classification"
   ]
  },
  {
   "cell_type": "markdown",
   "id": "499d8876-b928-4477-97be-e269cf41e48c",
   "metadata": {},
   "source": [
    "### 2.1.1 허깅페이스 데이터셋"
   ]
  },
  {
   "cell_type": "code",
   "execution_count": 1,
   "id": "c079b186-73e5-428e-aa36-915d5375ee2a",
   "metadata": {},
   "outputs": [
    {
     "name": "stdout",
     "output_type": "stream",
     "text": [
      "현재 허브에는 19337개의 데이터셋이 있습니다.\n",
      "처음 10개의 데이터셋 ['acronym_identification', 'ade_corpus_v2', 'adversarial_qa', 'aeslc', 'afrikaans_ner_corpus', 'ag_news', 'ai2_arc', 'air_dialogue', 'ajgt_twitter_ar', 'allegro_reviews']\n"
     ]
    }
   ],
   "source": [
    "from datasets import list_datasets\n",
    "\n",
    "all_datasets = list_datasets()\n",
    "print(f'현재 허브에는 {len(all_datasets)}개의 데이터셋이 있습니다.')\n",
    "print(f'처음 10개의 데이터셋 {all_datasets[:10]}')"
   ]
  },
  {
   "cell_type": "code",
   "execution_count": 3,
   "id": "7cfe65c1-9ad6-49ee-9ebf-cd9c03802750",
   "metadata": {},
   "outputs": [
    {
     "name": "stderr",
     "output_type": "stream",
     "text": [
      "No config specified, defaulting to: emotion/split\n",
      "Found cached dataset emotion (/root/.cache/huggingface/datasets/emotion/split/1.0.0/cca5efe2dfeb58c1d098e0f9eeb200e9927d889b5a03c67097275dfb5fe463bd)\n"
     ]
    },
    {
     "data": {
      "application/vnd.jupyter.widget-view+json": {
       "model_id": "9281038443304c1699838e51a836d380",
       "version_major": 2,
       "version_minor": 0
      },
      "text/plain": [
       "  0%|          | 0/3 [00:00<?, ?it/s]"
      ]
     },
     "metadata": {},
     "output_type": "display_data"
    },
    {
     "data": {
      "text/plain": [
       "DatasetDict({\n",
       "    train: Dataset({\n",
       "        features: ['text', 'label'],\n",
       "        num_rows: 16000\n",
       "    })\n",
       "    validation: Dataset({\n",
       "        features: ['text', 'label'],\n",
       "        num_rows: 2000\n",
       "    })\n",
       "    test: Dataset({\n",
       "        features: ['text', 'label'],\n",
       "        num_rows: 2000\n",
       "    })\n",
       "})"
      ]
     },
     "execution_count": 3,
     "metadata": {},
     "output_type": "execute_result"
    }
   ],
   "source": [
    "from datasets import load_dataset\n",
    "\n",
    "ds = load_dataset('emotion')\n",
    "ds"
   ]
  },
  {
   "cell_type": "markdown",
   "id": "a14da7c3-7304-4e66-af53-5d5fc00f16dd",
   "metadata": {},
   "source": [
    "* DatasetDict\n",
    "  * `Dict[str, Dataset]`\n",
    "* Dataset은 아파치 애로우 기반의 메모리 효율적인 열기반 포멧을 사용하여 데이터를 표현함.\n",
    "* Dataset의 데이터 타입은 Dataset 객체의 features attribute에 표시됨."
   ]
  },
  {
   "cell_type": "code",
   "execution_count": 4,
   "id": "b4272293-cb4d-4a07-b220-3ab4509fb31d",
   "metadata": {},
   "outputs": [
    {
     "data": {
      "text/plain": [
       "Dataset({\n",
       "    features: ['text', 'label'],\n",
       "    num_rows: 16000\n",
       "})"
      ]
     },
     "execution_count": 4,
     "metadata": {},
     "output_type": "execute_result"
    }
   ],
   "source": [
    "train_ds = ds['train']\n",
    "train_ds"
   ]
  },
  {
   "cell_type": "code",
   "execution_count": 5,
   "id": "9a226d93-7588-414b-9a27-9a2c10e0b19d",
   "metadata": {},
   "outputs": [
    {
     "data": {
      "text/plain": [
       "{'text': 'i didnt feel humiliated', 'label': 0}"
      ]
     },
     "execution_count": 5,
     "metadata": {},
     "output_type": "execute_result"
    }
   ],
   "source": [
    "train_ds[0]"
   ]
  },
  {
   "cell_type": "code",
   "execution_count": 6,
   "id": "81ea8d03-4b0e-47c8-93cb-767b8722eef9",
   "metadata": {},
   "outputs": [
    {
     "data": {
      "text/plain": [
       "['text', 'label']"
      ]
     },
     "execution_count": 6,
     "metadata": {},
     "output_type": "execute_result"
    }
   ],
   "source": [
    "train_ds.column_names"
   ]
  },
  {
   "cell_type": "code",
   "execution_count": 7,
   "id": "01062ee8-7ff8-44f8-b7ab-1431753652e8",
   "metadata": {},
   "outputs": [
    {
     "name": "stdout",
     "output_type": "stream",
     "text": [
      "{'text': Value(dtype='string', id=None), 'label': ClassLabel(names=['sadness', 'joy', 'love', 'anger', 'fear', 'surprise'], id=None)}\n"
     ]
    }
   ],
   "source": [
    "print(train_ds.features)"
   ]
  },
  {
   "cell_type": "code",
   "execution_count": 8,
   "id": "2361b040-24fd-4d5f-bb84-58b2b734fc0f",
   "metadata": {},
   "outputs": [
    {
     "name": "stdout",
     "output_type": "stream",
     "text": [
      "{'text': ['i didnt feel humiliated', 'i can go from feeling so hopeless to so damned hopeful just from being around someone who cares and is awake', 'im grabbing a minute to post i feel greedy wrong', 'i am ever feeling nostalgic about the fireplace i will know that it is still on the property', 'i am feeling grouchy'], 'label': [0, 0, 3, 2, 3]}\n"
     ]
    }
   ],
   "source": [
    "print(train_ds[:5])"
   ]
  },
  {
   "cell_type": "code",
   "execution_count": 9,
   "id": "7d899919-01fb-4b5a-895e-8602af1d8f56",
   "metadata": {},
   "outputs": [
    {
     "name": "stdout",
     "output_type": "stream",
     "text": [
      "['i didnt feel humiliated', 'i can go from feeling so hopeless to so damned hopeful just from being around someone who cares and is awake', 'im grabbing a minute to post i feel greedy wrong', 'i am ever feeling nostalgic about the fireplace i will know that it is still on the property', 'i am feeling grouchy']\n"
     ]
    }
   ],
   "source": [
    "print(train_ds['text'][:5])"
   ]
  },
  {
   "cell_type": "markdown",
   "id": "099633a9-9f2c-490b-9d86-1c80fa25b897",
   "metadata": {},
   "source": [
    "### 2.1.2 데이터셋에서 데이터 프레임으로"
   ]
  },
  {
   "cell_type": "markdown",
   "id": "ffe1683e-3a3f-4ece-a3e7-a72a1d1bc9c2",
   "metadata": {},
   "source": [
    "### 2.1.3 클래스 분포 살펴보기"
   ]
  },
  {
   "cell_type": "markdown",
   "id": "fd288abb-0050-4eb6-b4d0-3cd3699060de",
   "metadata": {},
   "source": [
    "### 2.1.4 트윗 길이 확인"
   ]
  },
  {
   "cell_type": "markdown",
   "id": "d84f451b-9881-41ec-8e45-ebdb4e5d9814",
   "metadata": {},
   "source": [
    "---"
   ]
  },
  {
   "cell_type": "markdown",
   "id": "e15d08ab-c908-4478-851c-840d83d6b734",
   "metadata": {},
   "source": [
    "## 2.2 텍스트에서 토큰으로\n",
    "* emotion에 대한 6가지 감정을 분류한 데이터셋인 CARER(https://aclanthology.org/D18-1404.pdf)를 활용한 text classification"
   ]
  },
  {
   "cell_type": "markdown",
   "id": "cfcfbf54-7928-43c1-bab4-90faa493a194",
   "metadata": {},
   "source": [
    "---"
   ]
  },
  {
   "cell_type": "markdown",
   "id": "3c0072fe-aa12-4412-b5ab-5f3577bb5000",
   "metadata": {},
   "source": [
    "## 2.3 텍스트 분류 모델 훈련하기"
   ]
  },
  {
   "cell_type": "markdown",
   "id": "b9fa34bd-fef0-4208-bfa0-ab4c20310d1c",
   "metadata": {},
   "source": [
    "### 2.3.2 트랜스포머 미세 튜닝하기"
   ]
  }
 ],
 "metadata": {
  "kernelspec": {
   "display_name": "Python 3 (ipykernel)",
   "language": "python",
   "name": "python3"
  },
  "language_info": {
   "codemirror_mode": {
    "name": "ipython",
    "version": 3
   },
   "file_extension": ".py",
   "mimetype": "text/x-python",
   "name": "python",
   "nbconvert_exporter": "python",
   "pygments_lexer": "ipython3",
   "version": "3.8.13"
  }
 },
 "nbformat": 4,
 "nbformat_minor": 5
}
