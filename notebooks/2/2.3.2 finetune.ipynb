{
 "cells": [
  {
   "cell_type": "markdown",
   "id": "e2522666-3951-4015-825e-13f23731dfa5",
   "metadata": {},
   "source": [
    "# Trainer API를 활용한 Fine Tuning 하기."
   ]
  },
  {
   "cell_type": "markdown",
   "id": "b2da7f78-d746-4cad-bc20-ee203154137e",
   "metadata": {},
   "source": [
    "### 1. Load package and set environment variable."
   ]
  },
  {
   "cell_type": "code",
   "execution_count": 1,
   "id": "734054c9-56b2-496b-8d12-607a7c75b8bf",
   "metadata": {},
   "outputs": [],
   "source": [
    "import os\n",
    "os.environ[\"CUDA_VISIBLE_DEVICES\"]=\"0\""
   ]
  },
  {
   "cell_type": "code",
   "execution_count": 2,
   "id": "2d107c7c-8188-4887-9980-3db47581e31b",
   "metadata": {},
   "outputs": [
    {
     "name": "stderr",
     "output_type": "stream",
     "text": [
      "/opt/conda/lib/python3.8/site-packages/pkg_resources/__init__.py:123: PkgResourcesDeprecationWarning: 0.996-ko-0.9.2 is an invalid version and will not be supported in a future release\n",
      "  warnings.warn(\n"
     ]
    }
   ],
   "source": [
    "import sys\n",
    "from omegaconf import OmegaConf\n",
    "\n",
    "from sklearn.metrics import accuracy_score, f1_score\n",
    "\n",
    "import torch\n",
    "from datasets import load_dataset\n",
    "from transformers import (\n",
    "    AutoTokenizer, \n",
    "    AutoModelForSequenceClassification, \n",
    "    EvalPrediction,\n",
    "    Trainer,\n",
    "    TrainingArguments,\n",
    ")\n",
    "from transformers.integrations import WandbCallback\n",
    "\n",
    "sys.path.append('/root/nlp-with-transformers')\n",
    "from src.data import EmotionDataModule"
   ]
  },
  {
   "cell_type": "markdown",
   "id": "c86b9387-5e29-4652-a15f-b3257a73320c",
   "metadata": {},
   "source": [
    "* 평가지표 정의하기\n",
    "    * Trainer 내부에서 사용할 `compute_metrics`을 정의함.\n",
    "    * 모델 학습 과정에서 `EvalPrediction`객체 (has attribute predictions, label_ids)를 전달받아서 평가지표 계산이 가능함."
   ]
  },
  {
   "cell_type": "code",
   "execution_count": 3,
   "id": "89fc3f69-1508-4c4a-a070-0fb793521eb3",
   "metadata": {},
   "outputs": [],
   "source": [
    "def compute_metrics(pred:EvalPrediction):\n",
    "    \"\"\"Get EvalPrediction and Calculate the metrics\"\"\"\n",
    "    labels = pred.label_ids\n",
    "    preds = pred.predictions.argmax(-1)\n",
    "    f1 = f1_score(labels, preds, average=\"weighted\")\n",
    "    acc = accuracy_score(labels, preds)\n",
    "    return {\"accuracy\":acc, \"f1\":f1}"
   ]
  },
  {
   "cell_type": "markdown",
   "id": "263da612-f430-43ec-8d4a-19605ca299db",
   "metadata": {},
   "source": [
    "### 2. Prepare Train"
   ]
  },
  {
   "cell_type": "markdown",
   "id": "50d630c7-3d68-401c-8759-c3caba56af49",
   "metadata": {},
   "source": [
    "* configuration은 크게 data, model, training쪽을 구분함."
   ]
  },
  {
   "cell_type": "code",
   "execution_count": 4,
   "id": "f59a0747-d91e-4a26-adc5-c0245ca89231",
   "metadata": {},
   "outputs": [],
   "source": [
    "config = OmegaConf.load('conf/ft.yaml')"
   ]
  },
  {
   "cell_type": "code",
   "execution_count": 5,
   "id": "2231644e-0df7-4d56-b271-590de8c79848",
   "metadata": {},
   "outputs": [],
   "source": [
    "os.environ['WANDB_PROJECT'] = config.env['wandb']['WANDB_PROJECT']"
   ]
  },
  {
   "cell_type": "markdown",
   "id": "58aa600d-15ed-4b4b-ab32-35c410090098",
   "metadata": {},
   "source": [
    "* load datamodule"
   ]
  },
  {
   "cell_type": "code",
   "execution_count": 6,
   "id": "6bddf505-fd73-435e-a635-e51876cf5715",
   "metadata": {},
   "outputs": [
    {
     "name": "stderr",
     "output_type": "stream",
     "text": [
      "No config specified, defaulting to: emotion/split\n",
      "No config specified, defaulting to: emotion/split\n",
      "Found cached dataset emotion (/root/.cache/huggingface/datasets/emotion/split/1.0.0/cca5efe2dfeb58c1d098e0f9eeb200e9927d889b5a03c67097275dfb5fe463bd)\n"
     ]
    },
    {
     "data": {
      "application/vnd.jupyter.widget-view+json": {
       "model_id": "7d2de99b40864434b8c05d836022168e",
       "version_major": 2,
       "version_minor": 0
      },
      "text/plain": [
       "  0%|          | 0/3 [00:00<?, ?it/s]"
      ]
     },
     "metadata": {},
     "output_type": "display_data"
    },
    {
     "name": "stderr",
     "output_type": "stream",
     "text": [
      "Loading cached processed dataset at /root/.cache/huggingface/datasets/emotion/split/1.0.0/cca5efe2dfeb58c1d098e0f9eeb200e9927d889b5a03c67097275dfb5fe463bd/cache-805eceb002e5c82e.arrow\n",
      "Loading cached processed dataset at /root/.cache/huggingface/datasets/emotion/split/1.0.0/cca5efe2dfeb58c1d098e0f9eeb200e9927d889b5a03c67097275dfb5fe463bd/cache-e72b1f240cb76b39.arrow\n",
      "Loading cached processed dataset at /root/.cache/huggingface/datasets/emotion/split/1.0.0/cca5efe2dfeb58c1d098e0f9eeb200e9927d889b5a03c67097275dfb5fe463bd/cache-363a00d3f7a34dfe.arrow\n"
     ]
    }
   ],
   "source": [
    "tokenizer = AutoTokenizer.from_pretrained(config.model.pretrained_model_name_or_path)\n",
    "dm = EmotionDataModule(tokenizer=tokenizer, **OmegaConf.to_container(config.data))\n",
    "dm.setup()"
   ]
  },
  {
   "cell_type": "markdown",
   "id": "e795fed0-d33c-455f-b6a4-b141791880dc",
   "metadata": {},
   "source": [
    "* 사전학습된 모델 로드"
   ]
  },
  {
   "cell_type": "code",
   "execution_count": 7,
   "id": "c83e54ff-0485-4880-816a-61f08cf4b54d",
   "metadata": {},
   "outputs": [
    {
     "name": "stderr",
     "output_type": "stream",
     "text": [
      "Some weights of the model checkpoint at distilbert-base-uncased were not used when initializing DistilBertForSequenceClassification: ['vocab_transform.bias', 'vocab_projector.weight', 'vocab_layer_norm.bias', 'vocab_layer_norm.weight', 'vocab_projector.bias', 'vocab_transform.weight']\n",
      "- This IS expected if you are initializing DistilBertForSequenceClassification from the checkpoint of a model trained on another task or with another architecture (e.g. initializing a BertForSequenceClassification model from a BertForPreTraining model).\n",
      "- This IS NOT expected if you are initializing DistilBertForSequenceClassification from the checkpoint of a model that you expect to be exactly identical (initializing a BertForSequenceClassification model from a BertForSequenceClassification model).\n",
      "Some weights of DistilBertForSequenceClassification were not initialized from the model checkpoint at distilbert-base-uncased and are newly initialized: ['classifier.bias', 'classifier.weight', 'pre_classifier.bias', 'pre_classifier.weight']\n",
      "You should probably TRAIN this model on a down-stream task to be able to use it for predictions and inference.\n"
     ]
    }
   ],
   "source": [
    "device = torch.device('cuda' if torch.cuda.is_available() else 'cpu')\n",
    "model = AutoModelForSequenceClassification.from_pretrained(\n",
    "    config.model.pretrained_model_name_or_path, \n",
    "    num_labels=dm.num_classes\n",
    ").to(device)"
   ]
  },
  {
   "cell_type": "markdown",
   "id": "5215d5da-5a5c-48eb-8550-f76d68462d3f",
   "metadata": {},
   "source": [
    "* 다른 arguments에 의존성이 있는 training args를 정의 및 trainer 실행."
   ]
  },
  {
   "cell_type": "code",
   "execution_count": 8,
   "id": "2e294859-bd93-4016-a1b3-8e2a0a5307c6",
   "metadata": {},
   "outputs": [],
   "source": [
    "model_base_dir = '/root/model_safari'\n",
    "config.training.output_dir = f\"{model_base_dir}/{config.model.pretrained_model_name_or_path}-finetuned-emotion\"\n",
    "config.training.logging_steps = len(dm.ds['train']) // config.training.per_device_train_batch_size\n",
    "training_args = TrainingArguments(**OmegaConf.to_container(config.training))"
   ]
  },
  {
   "cell_type": "code",
   "execution_count": 9,
   "id": "06938a6e-2184-4059-aa28-4caab5eda02e",
   "metadata": {},
   "outputs": [],
   "source": [
    "trainer = Trainer(model=model, args=training_args,\n",
    "                  compute_metrics=compute_metrics,\n",
    "                  train_dataset=dm.ds['train'],\n",
    "                  eval_dataset=dm.ds['validation'],\n",
    "                  data_collator=dm.get_collate_fn(),\n",
    "                  callbacks=[WandbCallback()]\n",
    "                 )"
   ]
  },
  {
   "cell_type": "markdown",
   "id": "032ddc28-2a1f-4888-a403-9c3369018b92",
   "metadata": {},
   "source": [
    "### 3. Train model and error analysis"
   ]
  },
  {
   "cell_type": "code",
   "execution_count": 10,
   "id": "c7a0122d-931c-4cde-b73f-b6aad498660e",
   "metadata": {},
   "outputs": [
    {
     "name": "stderr",
     "output_type": "stream",
     "text": [
      "/opt/conda/lib/python3.8/site-packages/transformers/optimization.py:306: FutureWarning: This implementation of AdamW is deprecated and will be removed in a future version. Use the PyTorch implementation torch.optim.AdamW instead, or set `no_deprecation_warning=True` to disable this warning\n",
      "  warnings.warn(\n",
      "Failed to detect the name of this notebook, you can set it manually with the WANDB_NOTEBOOK_NAME environment variable to enable code saving.\n",
      "\u001b[34m\u001b[1mwandb\u001b[0m: Currently logged in as: \u001b[33mdatalama\u001b[0m. Use \u001b[1m`wandb login --relogin`\u001b[0m to force relogin\n"
     ]
    },
    {
     "data": {
      "text/html": [
       "Tracking run with wandb version 0.13.9"
      ],
      "text/plain": [
       "<IPython.core.display.HTML object>"
      ]
     },
     "metadata": {},
     "output_type": "display_data"
    },
    {
     "data": {
      "text/html": [
       "Run data is saved locally in <code>/root/nlp-with-transformers/notebooks/2/wandb/run-20230125_151027-6ot0frjh</code>"
      ],
      "text/plain": [
       "<IPython.core.display.HTML object>"
      ]
     },
     "metadata": {},
     "output_type": "display_data"
    },
    {
     "data": {
      "text/html": [
       "Syncing run <strong><a href=\"https://wandb.ai/datalama/lama-test/runs/6ot0frjh\" target=\"_blank\">/root/model_safari/distilbert-base-uncased-finetuned-emotion</a></strong> to <a href=\"https://wandb.ai/datalama/lama-test\" target=\"_blank\">Weights & Biases</a> (<a href=\"https://wandb.me/run\" target=\"_blank\">docs</a>)<br/>"
      ],
      "text/plain": [
       "<IPython.core.display.HTML object>"
      ]
     },
     "metadata": {},
     "output_type": "display_data"
    },
    {
     "data": {
      "text/html": [
       " View project at <a href=\"https://wandb.ai/datalama/lama-test\" target=\"_blank\">https://wandb.ai/datalama/lama-test</a>"
      ],
      "text/plain": [
       "<IPython.core.display.HTML object>"
      ]
     },
     "metadata": {},
     "output_type": "display_data"
    },
    {
     "data": {
      "text/html": [
       " View run at <a href=\"https://wandb.ai/datalama/lama-test/runs/6ot0frjh\" target=\"_blank\">https://wandb.ai/datalama/lama-test/runs/6ot0frjh</a>"
      ],
      "text/plain": [
       "<IPython.core.display.HTML object>"
      ]
     },
     "metadata": {},
     "output_type": "display_data"
    },
    {
     "name": "stdout",
     "output_type": "stream",
     "text": [
      "[2023-01-25 15:10:29.750: W smdistributed/modelparallel/torch/nn/predefined_hooks.py:75] Found unsupported HuggingFace version 4.25.1 for automated tensor parallelism. HuggingFace modules will not be automatically distributed. You can use smp.tp_register_with_module API to register desired modules for tensor parallelism, or directly instantiate an smp.nn.DistributedModule. Supported HuggingFace transformers versions for automated tensor parallelism: ['4.17.0', '4.20.1', '4.21.0']\n",
      "[2023-01-25 15:10:29.843 ee7736cf838b:5532 INFO utils.py:27] RULE_JOB_STOP_SIGNAL_FILENAME: None\n",
      "[2023-01-25 15:10:29.981 ee7736cf838b:5532 INFO profiler_config_parser.py:111] Unable to find config at /opt/ml/input/config/profilerconfig.json. Profiler is disabled.\n"
     ]
    },
    {
     "data": {
      "text/html": [
       "\n",
       "    <div>\n",
       "      \n",
       "      <progress value='750' max='750' style='width:300px; height:20px; vertical-align: middle;'></progress>\n",
       "      [750/750 02:43, Epoch 3/3]\n",
       "    </div>\n",
       "    <table border=\"1\" class=\"dataframe\">\n",
       "  <thead>\n",
       " <tr style=\"text-align: left;\">\n",
       "      <th>Epoch</th>\n",
       "      <th>Training Loss</th>\n",
       "      <th>Validation Loss</th>\n",
       "      <th>Accuracy</th>\n",
       "      <th>F1</th>\n",
       "    </tr>\n",
       "  </thead>\n",
       "  <tbody>\n",
       "    <tr>\n",
       "      <td>1</td>\n",
       "      <td>0.794300</td>\n",
       "      <td>0.269021</td>\n",
       "      <td>0.920000</td>\n",
       "      <td>0.918848</td>\n",
       "    </tr>\n",
       "    <tr>\n",
       "      <td>2</td>\n",
       "      <td>0.212400</td>\n",
       "      <td>0.179108</td>\n",
       "      <td>0.927000</td>\n",
       "      <td>0.927222</td>\n",
       "    </tr>\n",
       "    <tr>\n",
       "      <td>3</td>\n",
       "      <td>0.146200</td>\n",
       "      <td>0.164048</td>\n",
       "      <td>0.932000</td>\n",
       "      <td>0.932330</td>\n",
       "    </tr>\n",
       "  </tbody>\n",
       "</table><p>"
      ],
      "text/plain": [
       "<IPython.core.display.HTML object>"
      ]
     },
     "metadata": {},
     "output_type": "display_data"
    },
    {
     "data": {
      "text/plain": [
       "TrainOutput(global_step=750, training_loss=0.384301996866862, metrics={'train_runtime': 169.8793, 'train_samples_per_second': 282.554, 'train_steps_per_second': 4.415, 'total_flos': 1078278745731840.0, 'train_loss': 0.384301996866862, 'epoch': 3.0})"
      ]
     },
     "execution_count": 10,
     "metadata": {},
     "output_type": "execute_result"
    }
   ],
   "source": [
    "trainer.train()"
   ]
  },
  {
   "cell_type": "markdown",
   "id": "f796233b-5106-4d0e-ad3e-a7bde3fa45df",
   "metadata": {},
   "source": [
    "* predicts를 통해 예측값을 받을 수 있음."
   ]
  },
  {
   "cell_type": "code",
   "execution_count": 11,
   "id": "5b04d650-50b8-46cc-9c8a-20e36b416b85",
   "metadata": {},
   "outputs": [
    {
     "data": {
      "text/html": [],
      "text/plain": [
       "<IPython.core.display.HTML object>"
      ]
     },
     "metadata": {},
     "output_type": "display_data"
    },
    {
     "data": {
      "text/plain": [
       "PredictionOutput(predictions=array([[ 5.214697  , -0.908192  , -1.0109664 , -0.8797891 , -1.1317407 ,\n",
       "        -1.7231724 ],\n",
       "       [ 5.2343407 , -1.006928  , -1.4200271 , -0.70826936, -0.747143  ,\n",
       "        -1.6862102 ],\n",
       "       [-1.2311928 ,  2.5197318 ,  3.1118264 , -1.203115  , -2.0291572 ,\n",
       "        -1.907203  ],\n",
       "       ...,\n",
       "       [-1.2686397 ,  5.199281  , -0.20892029, -1.3117659 , -2.1274428 ,\n",
       "        -1.433847  ],\n",
       "       [-1.6041843 ,  3.3147378 ,  2.737571  , -1.4269689 , -2.2262764 ,\n",
       "        -1.743381  ],\n",
       "       [-1.3398213 ,  5.162561  , -0.4659274 , -1.7608786 , -2.166939  ,\n",
       "        -0.6403077 ]], dtype=float32), label_ids=array([0, 0, 2, ..., 1, 1, 1]), metrics={'test_loss': 0.1640477031469345, 'test_accuracy': 0.932, 'test_f1': 0.9323296888610766, 'test_runtime': 1.9942, 'test_samples_per_second': 1002.931, 'test_steps_per_second': 16.047})"
      ]
     },
     "execution_count": 11,
     "metadata": {},
     "output_type": "execute_result"
    }
   ],
   "source": [
    "predicts = trainer.predict(dm.ds['validation'])\n",
    "predicts"
   ]
  },
  {
   "cell_type": "markdown",
   "id": "116e73b5-c753-4349-83a9-6de3e098ffad",
   "metadata": {},
   "source": [
    "* 오차 행렬"
   ]
  },
  {
   "cell_type": "code",
   "execution_count": 12,
   "id": "a49a3443-fff8-4fc8-803c-99de2a015a26",
   "metadata": {},
   "outputs": [],
   "source": [
    "import matplotlib.pyplot as plt\n",
    "from sklearn.metrics import ConfusionMatrixDisplay, confusion_matrix"
   ]
  },
  {
   "cell_type": "code",
   "execution_count": 13,
   "id": "e689661d-1750-4c2f-a9b3-138c94f21611",
   "metadata": {},
   "outputs": [],
   "source": [
    "def plot_confusion_matrix(y_pred, y_true, labels):\n",
    "    cm = confusion_matrix(y_true, y_pred, normalize='true')\n",
    "    fig, ax = plt.subplots(figsize=(6,6))\n",
    "    disp = ConfusionMatrixDisplay(confusion_matrix=cm, display_labels=labels)\n",
    "    disp.plot(cmap=\"Blues\", values_format=\".2f\", ax=ax, colorbar=False)\n",
    "    plt.title(\"Normalized Confusion matrix\")\n",
    "    plt.show()"
   ]
  },
  {
   "cell_type": "code",
   "execution_count": 14,
   "id": "71caddac-a837-43eb-89a9-ecbbdba40d0d",
   "metadata": {},
   "outputs": [
    {
     "data": {
      "image/png": "[encoded data removed]",
      "text/plain": [
       "<Figure size 600x600 with 1 Axes>"
      ]
     },
     "metadata": {},
     "output_type": "display_data"
    }
   ],
   "source": [
    "import numpy as np\n",
    "y_preds = np.argmax(predicts.predictions, axis=1)\n",
    "plot_confusion_matrix(y_preds, dm.ds['validation']['label'], dm.id2label)"
   ]
  },
  {
   "cell_type": "markdown",
   "id": "e7f0c6d5-4d5b-414d-90c2-7e19637abfc1",
   "metadata": {},
   "source": [
    "* error analysis\n",
    "  * 모델의 validation loss가 큰 순으로 정렬하는 것. (가장 심플)"
   ]
  },
  {
   "cell_type": "code",
   "execution_count": 104,
   "id": "4f2bae07-aa42-47f4-a968-1b4ab31a1b24",
   "metadata": {},
   "outputs": [],
   "source": [
    "from torch.nn.functional import cross_entropy\n",
    "vl_dl = trainer.get_eval_dataloader(dm.ds['validation'])\n",
    "bs = vl_dl.batch_size\n",
    "vl_loss_dict = {k:list() for k in [\"text\", \"label\", \"predicted_label\", \"loss\"]}"
   ]
  },
  {
   "cell_type": "code",
   "execution_count": 105,
   "id": "3ce1b27f-f59c-499f-aaf1-b91c5e3bc32d",
   "metadata": {},
   "outputs": [],
   "source": [
    "for i, batch in enumerate(vl_dl):\n",
    "    vl_loss_dict['text'] += dm.ds['validation']['text'][i*bs:(i+1)*bs]\n",
    "    vl_loss_dict['label'] += dm.ds['validation']['label'][i*bs:(i+1)*bs].numpy().tolist()\n",
    "    inputs = {k:v.to(device) for k,v in batch.items()}\n",
    "\n",
    "    with torch.no_grad():\n",
    "        output = model(**inputs)\n",
    "        pred_label = torch.argmax(output.logits, axis=-1)\n",
    "        loss = cross_entropy(output.logits, batch[\"labels\"].to(device), \n",
    "                             reduction=\"none\")\n",
    "        \n",
    "    vl_loss_dict['loss'] += loss.cpu().numpy().tolist()\n",
    "    vl_loss_dict['predicted_label'] += pred_label.cpu().numpy().tolist()\n"
   ]
  },
  {
   "cell_type": "code",
   "execution_count": 106,
   "id": "19a8e787-8902-4aef-aa16-8845745411b2",
   "metadata": {},
   "outputs": [],
   "source": [
    "import pandas as pd\n",
    "vl_loss_df = pd.DataFrame.from_dict(vl_loss_dict)"
   ]
  },
  {
   "cell_type": "code",
   "execution_count": 108,
   "id": "2872c13a-dc9b-43a1-a72c-2ba355e659b3",
   "metadata": {},
   "outputs": [],
   "source": [
    "vl_loss_df['label'] =vl_loss_df['label'].apply(lambda x:dm.id2label[x])\n",
    "vl_loss_df['predicted_label'] = vl_loss_df['predicted_label'].apply(lambda x:dm.id2label[x])"
   ]
  },
  {
   "cell_type": "markdown",
   "id": "0fd18e7b-ca85-42ba-b773-b284259ce479",
   "metadata": {},
   "source": [
    "* to hedge low-confidence "
   ]
  },
  {
   "cell_type": "code",
   "execution_count": 111,
   "id": "33424843-dace-4eea-a0cc-f1ef55da129a",
   "metadata": {},
   "outputs": [
    {
     "data": {
      "text/html": [
       "<div>\n",
       "<style scoped>\n",
       "    .dataframe tbody tr th:only-of-type {\n",
       "        vertical-align: middle;\n",
       "    }\n",
       "\n",
       "    .dataframe tbody tr th {\n",
       "        vertical-align: top;\n",
       "    }\n",
       "\n",
       "    .dataframe thead th {\n",
       "        text-align: right;\n",
       "    }\n",
       "</style>\n",
       "<table border=\"1\" class=\"dataframe\">\n",
       "  <thead>\n",
       "    <tr style=\"text-align: right;\">\n",
       "      <th></th>\n",
       "      <th>text</th>\n",
       "      <th>label</th>\n",
       "      <th>predicted_label</th>\n",
       "      <th>loss</th>\n",
       "    </tr>\n",
       "  </thead>\n",
       "  <tbody>\n",
       "    <tr>\n",
       "      <th>1111</th>\n",
       "      <td>im lazy my characters fall into categories of ...</td>\n",
       "      <td>joy</td>\n",
       "      <td>fear</td>\n",
       "      <td>5.824722</td>\n",
       "    </tr>\n",
       "    <tr>\n",
       "      <th>1500</th>\n",
       "      <td>i guess we would naturally feel a sense of lon...</td>\n",
       "      <td>anger</td>\n",
       "      <td>sadness</td>\n",
       "      <td>5.679358</td>\n",
       "    </tr>\n",
       "    <tr>\n",
       "      <th>1963</th>\n",
       "      <td>i called myself pro life and voted for perry w...</td>\n",
       "      <td>joy</td>\n",
       "      <td>sadness</td>\n",
       "      <td>5.505166</td>\n",
       "    </tr>\n",
       "    <tr>\n",
       "      <th>1509</th>\n",
       "      <td>i guess this is a memoir so it feels like that...</td>\n",
       "      <td>joy</td>\n",
       "      <td>fear</td>\n",
       "      <td>5.393615</td>\n",
       "    </tr>\n",
       "    <tr>\n",
       "      <th>882</th>\n",
       "      <td>i feel badly about reneging on my commitment t...</td>\n",
       "      <td>love</td>\n",
       "      <td>sadness</td>\n",
       "      <td>5.341237</td>\n",
       "    </tr>\n",
       "    <tr>\n",
       "      <th>1840</th>\n",
       "      <td>id let you kill it now but as a matter of fact...</td>\n",
       "      <td>joy</td>\n",
       "      <td>fear</td>\n",
       "      <td>5.218733</td>\n",
       "    </tr>\n",
       "    <tr>\n",
       "      <th>1950</th>\n",
       "      <td>i as representative of everything thats wrong ...</td>\n",
       "      <td>surprise</td>\n",
       "      <td>sadness</td>\n",
       "      <td>5.107484</td>\n",
       "    </tr>\n",
       "    <tr>\n",
       "      <th>318</th>\n",
       "      <td>i felt ashamed of these feelings and was scare...</td>\n",
       "      <td>fear</td>\n",
       "      <td>sadness</td>\n",
       "      <td>4.973043</td>\n",
       "    </tr>\n",
       "    <tr>\n",
       "      <th>160</th>\n",
       "      <td>i didnt want to feel outcasted as the uptight ...</td>\n",
       "      <td>fear</td>\n",
       "      <td>sadness</td>\n",
       "      <td>4.439733</td>\n",
       "    </tr>\n",
       "    <tr>\n",
       "      <th>1683</th>\n",
       "      <td>i had applied for a job and they had assured m...</td>\n",
       "      <td>anger</td>\n",
       "      <td>joy</td>\n",
       "      <td>4.344048</td>\n",
       "    </tr>\n",
       "  </tbody>\n",
       "</table>\n",
       "</div>"
      ],
      "text/plain": [
       "                                                   text     label  \\\n",
       "1111  im lazy my characters fall into categories of ...       joy   \n",
       "1500  i guess we would naturally feel a sense of lon...     anger   \n",
       "1963  i called myself pro life and voted for perry w...       joy   \n",
       "1509  i guess this is a memoir so it feels like that...       joy   \n",
       "882   i feel badly about reneging on my commitment t...      love   \n",
       "1840  id let you kill it now but as a matter of fact...       joy   \n",
       "1950  i as representative of everything thats wrong ...  surprise   \n",
       "318   i felt ashamed of these feelings and was scare...      fear   \n",
       "160   i didnt want to feel outcasted as the uptight ...      fear   \n",
       "1683  i had applied for a job and they had assured m...     anger   \n",
       "\n",
       "     predicted_label      loss  \n",
       "1111            fear  5.824722  \n",
       "1500         sadness  5.679358  \n",
       "1963         sadness  5.505166  \n",
       "1509            fear  5.393615  \n",
       "882          sadness  5.341237  \n",
       "1840            fear  5.218733  \n",
       "1950         sadness  5.107484  \n",
       "318          sadness  4.973043  \n",
       "160          sadness  4.439733  \n",
       "1683             joy  4.344048  "
      ]
     },
     "execution_count": 111,
     "metadata": {},
     "output_type": "execute_result"
    }
   ],
   "source": [
    "vl_loss_df.sort_values('loss', ascending=False).head(10)"
   ]
  },
  {
   "cell_type": "markdown",
   "id": "2c0d8f95-5bfd-4394-8822-1a931b6ab585",
   "metadata": {},
   "source": [
    "* to hedge over-confidence"
   ]
  },
  {
   "cell_type": "code",
   "execution_count": 114,
   "id": "3acae5ac-ed7d-44d5-8755-1f9a8db14fc0",
   "metadata": {},
   "outputs": [
    {
     "data": {
      "text/html": [
       "<div>\n",
       "<style scoped>\n",
       "    .dataframe tbody tr th:only-of-type {\n",
       "        vertical-align: middle;\n",
       "    }\n",
       "\n",
       "    .dataframe tbody tr th {\n",
       "        vertical-align: top;\n",
       "    }\n",
       "\n",
       "    .dataframe thead th {\n",
       "        text-align: right;\n",
       "    }\n",
       "</style>\n",
       "<table border=\"1\" class=\"dataframe\">\n",
       "  <thead>\n",
       "    <tr style=\"text-align: right;\">\n",
       "      <th></th>\n",
       "      <th>text</th>\n",
       "      <th>label</th>\n",
       "      <th>predicted_label</th>\n",
       "      <th>loss</th>\n",
       "    </tr>\n",
       "  </thead>\n",
       "  <tbody>\n",
       "    <tr>\n",
       "      <th>400</th>\n",
       "      <td>i are just relaxing together and i feel ecstat...</td>\n",
       "      <td>joy</td>\n",
       "      <td>joy</td>\n",
       "      <td>0.007303</td>\n",
       "    </tr>\n",
       "    <tr>\n",
       "      <th>876</th>\n",
       "      <td>i feel like the cool mom</td>\n",
       "      <td>joy</td>\n",
       "      <td>joy</td>\n",
       "      <td>0.007318</td>\n",
       "    </tr>\n",
       "    <tr>\n",
       "      <th>452</th>\n",
       "      <td>i manage to complete the lap not too far behin...</td>\n",
       "      <td>joy</td>\n",
       "      <td>joy</td>\n",
       "      <td>0.007333</td>\n",
       "    </tr>\n",
       "    <tr>\n",
       "      <th>1873</th>\n",
       "      <td>i feel practically virtuous this month i have ...</td>\n",
       "      <td>joy</td>\n",
       "      <td>joy</td>\n",
       "      <td>0.007378</td>\n",
       "    </tr>\n",
       "    <tr>\n",
       "      <th>107</th>\n",
       "      <td>i feel the cool edge of the barrel against my ...</td>\n",
       "      <td>joy</td>\n",
       "      <td>joy</td>\n",
       "      <td>0.007403</td>\n",
       "    </tr>\n",
       "    <tr>\n",
       "      <th>632</th>\n",
       "      <td>i feel he is an terrific really worth bet</td>\n",
       "      <td>joy</td>\n",
       "      <td>joy</td>\n",
       "      <td>0.007436</td>\n",
       "    </tr>\n",
       "    <tr>\n",
       "      <th>702</th>\n",
       "      <td>i only find out that they are looking and feel...</td>\n",
       "      <td>joy</td>\n",
       "      <td>joy</td>\n",
       "      <td>0.007459</td>\n",
       "    </tr>\n",
       "    <tr>\n",
       "      <th>1090</th>\n",
       "      <td>i dont know what it is about me and sweets the...</td>\n",
       "      <td>joy</td>\n",
       "      <td>joy</td>\n",
       "      <td>0.007467</td>\n",
       "    </tr>\n",
       "    <tr>\n",
       "      <th>1109</th>\n",
       "      <td>i feel like this semester has been good for me</td>\n",
       "      <td>joy</td>\n",
       "      <td>joy</td>\n",
       "      <td>0.007498</td>\n",
       "    </tr>\n",
       "    <tr>\n",
       "      <th>1622</th>\n",
       "      <td>i feel that it was a good investment to make t...</td>\n",
       "      <td>joy</td>\n",
       "      <td>joy</td>\n",
       "      <td>0.007520</td>\n",
       "    </tr>\n",
       "  </tbody>\n",
       "</table>\n",
       "</div>"
      ],
      "text/plain": [
       "                                                   text label predicted_label  \\\n",
       "400   i are just relaxing together and i feel ecstat...   joy             joy   \n",
       "876                            i feel like the cool mom   joy             joy   \n",
       "452   i manage to complete the lap not too far behin...   joy             joy   \n",
       "1873  i feel practically virtuous this month i have ...   joy             joy   \n",
       "107   i feel the cool edge of the barrel against my ...   joy             joy   \n",
       "632           i feel he is an terrific really worth bet   joy             joy   \n",
       "702   i only find out that they are looking and feel...   joy             joy   \n",
       "1090  i dont know what it is about me and sweets the...   joy             joy   \n",
       "1109     i feel like this semester has been good for me   joy             joy   \n",
       "1622  i feel that it was a good investment to make t...   joy             joy   \n",
       "\n",
       "          loss  \n",
       "400   0.007303  \n",
       "876   0.007318  \n",
       "452   0.007333  \n",
       "1873  0.007378  \n",
       "107   0.007403  \n",
       "632   0.007436  \n",
       "702   0.007459  \n",
       "1090  0.007467  \n",
       "1109  0.007498  \n",
       "1622  0.007520  "
      ]
     },
     "execution_count": 114,
     "metadata": {},
     "output_type": "execute_result"
    }
   ],
   "source": [
    "vl_loss_df.sort_values('loss', ascending=True).head(10)"
   ]
  }
 ],
 "metadata": {
  "kernelspec": {
   "display_name": "Python 3 (ipykernel)",
   "language": "python",
   "name": "python3"
  },
  "language_info": {
   "codemirror_mode": {
    "name": "ipython",
    "version": 3
   },
   "file_extension": ".py",
   "mimetype": "text/x-python",
   "name": "python",
   "nbconvert_exporter": "python",
   "pygments_lexer": "ipython3",
   "version": "3.8.13"
  }
 },
 "nbformat": 4,
 "nbformat_minor": 5
}
